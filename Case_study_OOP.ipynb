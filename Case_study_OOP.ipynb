{
  "nbformat": 4,
  "nbformat_minor": 0,
  "metadata": {
    "colab": {
      "provenance": [],
      "authorship_tag": "ABX9TyO7n9Z7CfUA/izXDm/H7j+B",
      "include_colab_link": true
    },
    "kernelspec": {
      "name": "python3",
      "display_name": "Python 3"
    },
    "language_info": {
      "name": "python"
    }
  },
  "cells": [
    {
      "cell_type": "markdown",
      "metadata": {
        "id": "view-in-github",
        "colab_type": "text"
      },
      "source": [
        "<a href=\"https://colab.research.google.com/github/Elmir22/Data-science-ML-models-/blob/main/Case_study_OOP.ipynb\" target=\"_parent\"><img src=\"https://colab.research.google.com/assets/colab-badge.svg\" alt=\"Open In Colab\"/></a>"
      ]
    },
    {
      "cell_type": "code",
      "execution_count": 1,
      "metadata": {
        "id": "7m46bzsNGLoq"
      },
      "outputs": [],
      "source": [
        "import pandas as pd"
      ]
    },
    {
      "cell_type": "code",
      "source": [
        "class Vehicle:\n",
        "    \"\"\"Base class for all vehicles\"\"\"\n",
        "    def __init__(self, year, mpg, speed=0):\n",
        "        self._year = year       # Private attribute\n",
        "        self._mpg = mpg         # Private attribute\n",
        "        self.speed = speed      # Public attribute\n",
        "\n",
        "    def accelerate(self, increase):\n",
        "        \"\"\"Increases the speed of the vehicle.\"\"\"\n",
        "        self.speed += increase\n",
        "        print(f\"The vehicle accelerates to {self.speed} mph.\")\n",
        "\n",
        "    def brake(self, decrease):\n",
        "        \"\"\"Decreases the speed of the vehicle, ensuring it doesn't go below zero.\"\"\"\n",
        "        self.speed = max(0, self.speed - decrease)\n",
        "        print(f\"The vehicle slows down to {self.speed} mph.\")\n",
        "\n",
        "\n",
        "# Car class inheriting from Vehicle\n",
        "class Car(Vehicle):\n",
        "    \"\"\"Car class inheriting from Vehicle\"\"\"\n",
        "    def __init__(self, year, mpg, speed=0, make=\"Unknown\", model=\"Unknown\"):\n",
        "        super().__init__(year, mpg, speed)\n",
        "        self.make = make\n",
        "        self.model = model\n",
        "\n",
        "    def display_info(self):\n",
        "        \"\"\"Displays car-specific information.\"\"\"\n",
        "        print(f\"Car: {self.make} {self.model}, Year: {self._year}, MPG: {self._mpg}, Current Speed: {self.speed} mph\")\n",
        "\n",
        "\n",
        "# Bus class inheriting from Vehicle\n",
        "class Bus(Vehicle):\n",
        "    \"\"\"Bus class inheriting from Vehicle\"\"\"\n",
        "    def __init__(self, year, mpg, speed=0, capacity=50):\n",
        "        super().__init__(year, mpg, speed)\n",
        "        self.capacity = capacity  # Bus-specific attribute\n",
        "\n",
        "    def display_info(self):\n",
        "        \"\"\"Displays bus-specific information.\"\"\"\n",
        "        print(f\"Bus: Year: {self._year}, MPG: {self._mpg}, Capacity: {self.capacity}, Current Speed: {self.speed} mph\")\n",
        "\n",
        "\n",
        "# Example usage\n",
        "if __name__ == \"__main__\":\n",
        "    # Create a Car instance\n",
        "    my_car = Car(2022, 30, make=\"Toyota\", model=\"Camry\")\n",
        "    my_car.display_info()\n",
        "    my_car.accelerate(20)\n",
        "    my_car.brake(10)\n",
        "    my_car.display_info()\n",
        "\n",
        "    print()  # Separator for clarity\n",
        "\n",
        "    # Create a Bus instance\n",
        "    my_bus = Bus(2019, 15, capacity=100)\n",
        "    my_bus.display_info()\n",
        "    my_bus.accelerate(40)\n",
        "    my_bus.brake(15)\n",
        "    my_bus.display_info()\n"
      ],
      "metadata": {
        "colab": {
          "base_uri": "https://localhost:8080/"
        },
        "id": "IBj6MRVlGU1E",
        "outputId": "30363b7b-2ea1-4277-8675-682bb4346989"
      },
      "execution_count": 1,
      "outputs": [
        {
          "output_type": "stream",
          "name": "stdout",
          "text": [
            "Car: Toyota Camry, Year: 2022, MPG: 30, Current Speed: 0 mph\n",
            "The vehicle accelerates to 20 mph.\n",
            "The vehicle slows down to 10 mph.\n",
            "Car: Toyota Camry, Year: 2022, MPG: 30, Current Speed: 10 mph\n",
            "\n",
            "Bus: Year: 2019, MPG: 15, Capacity: 100, Current Speed: 0 mph\n",
            "The vehicle accelerates to 40 mph.\n",
            "The vehicle slows down to 25 mph.\n",
            "Bus: Year: 2019, MPG: 15, Capacity: 100, Current Speed: 25 mph\n"
          ]
        }
      ]
    },
    {
      "cell_type": "markdown",
      "source": [
        "#Homework"
      ],
      "metadata": {
        "id": "a1rqmsp_H6OH"
      }
    },
    {
      "cell_type": "code",
      "source": [
        "class Vehicle:\n",
        "  def __init__(self, max_speed):\n",
        "    self.color = \"white\"\n",
        "    self.max_speed = max_speed\n",
        "\n",
        "  def display_info(self):\n",
        "    print(f\"Color: {self.color}, Max Speed: {self.max_speed} mph\")\n",
        "\n",
        "  def fare(self):\n",
        "    return self.seating_capacity * 35\n",
        "\n",
        "class Car(Vehicle):\n",
        "  def __init__(self,max_speed):\n",
        "    super().__init__(max_speed)\n",
        "    self.seating_capacity = 4\n",
        "\n",
        "\n",
        "class Train(Vehicle):\n",
        "  def __init__(self,max_speed):\n",
        "    super().__init__(max_speed)\n",
        "    self.seating_capacity = 100\n",
        "\n",
        "  def fare(self):\n",
        "    return round((super().fare() * 1.1),-1)\n"
      ],
      "metadata": {
        "id": "Q8D7dNqwlQ_n"
      },
      "execution_count": 42,
      "outputs": []
    },
    {
      "cell_type": "code",
      "source": [
        "car = Car(80)\n",
        "train = Train(60)"
      ],
      "metadata": {
        "id": "9lqyt1mblkSR"
      },
      "execution_count": 43,
      "outputs": []
    },
    {
      "cell_type": "code",
      "source": [
        "car.display_info()\n",
        "train.display_info()"
      ],
      "metadata": {
        "colab": {
          "base_uri": "https://localhost:8080/"
        },
        "id": "RWb3-4QXo5F5",
        "outputId": "f2d0d10d-d0b1-4039-b51f-19f36000e96b"
      },
      "execution_count": 44,
      "outputs": [
        {
          "output_type": "stream",
          "name": "stdout",
          "text": [
            "Color: white, Max Speed: 80 mph\n",
            "Color: white, Max Speed: 60 mph\n"
          ]
        }
      ]
    },
    {
      "cell_type": "code",
      "source": [
        "print(\"Car Fare:\",car.fare())\n",
        "print(\"Train Fare:\",train.fare())"
      ],
      "metadata": {
        "colab": {
          "base_uri": "https://localhost:8080/"
        },
        "id": "FGF61jmzqD6d",
        "outputId": "a7059eda-7f89-4f35-b286-7621e6bf8900"
      },
      "execution_count": 45,
      "outputs": [
        {
          "output_type": "stream",
          "name": "stdout",
          "text": [
            "Car Fare: 140\n",
            "Train Fare: 3850.0\n"
          ]
        }
      ]
    },
    {
      "cell_type": "code",
      "source": [],
      "metadata": {
        "id": "x6CNPoQkqZhW"
      },
      "execution_count": null,
      "outputs": []
    }
  ]
}