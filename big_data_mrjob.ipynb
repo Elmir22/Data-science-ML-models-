{
  "nbformat": 4,
  "nbformat_minor": 0,
  "metadata": {
    "colab": {
      "provenance": [],
      "authorship_tag": "ABX9TyMNjoCTPCk9BcHwpTBfH4LH",
      "include_colab_link": true
    },
    "kernelspec": {
      "name": "python3",
      "display_name": "Python 3"
    },
    "language_info": {
      "name": "python"
    }
  },
  "cells": [
    {
      "cell_type": "markdown",
      "metadata": {
        "id": "view-in-github",
        "colab_type": "text"
      },
      "source": [
        "<a href=\"https://colab.research.google.com/github/Elmir22/Data-science-ML-models-/blob/main/big_data_mrjob.ipynb\" target=\"_parent\"><img src=\"https://colab.research.google.com/assets/colab-badge.svg\" alt=\"Open In Colab\"/></a>"
      ]
    },
    {
      "cell_type": "code",
      "execution_count": 6,
      "metadata": {
        "id": "hPxmIkKrEmWc"
      },
      "outputs": [],
      "source": [
        "%%capture\n",
        "\n",
        "!pip install mrjob"
      ]
    },
    {
      "cell_type": "code",
      "source": [
        "%%file airportsensor.py\n",
        "\n",
        "from mrjob.job import MRJob\n",
        "\n",
        "class MRJob_1(MRJob):\n",
        "\n",
        "  def mapper(self, _, line):\n",
        "    key = line.split(\",\")[1].split()[0]\n",
        "    value = line.split(\",\")[1].split()[1]\n",
        "    if float(value) > 37.0:\n",
        "      yield key, 1\n",
        "\n",
        "  def reducer(self, key, values):\n",
        "    yield key, sum(values)\n",
        "\n",
        "if __name__ == \"__main__\":\n",
        "  MRJob_1.run()\n",
        "\n"
      ],
      "metadata": {
        "colab": {
          "base_uri": "https://localhost:8080/"
        },
        "id": "8MpPrR8tJDru",
        "outputId": "5ae16d9b-129a-4e5a-b12b-d8c8ef989496"
      },
      "execution_count": 28,
      "outputs": [
        {
          "output_type": "stream",
          "name": "stdout",
          "text": [
            "Overwriting airportsensor.py\n"
          ]
        }
      ]
    },
    {
      "cell_type": "code",
      "source": [
        "!python airportsensor.py /content/airportsensor.txt > output.txt"
      ],
      "metadata": {
        "colab": {
          "base_uri": "https://localhost:8080/"
        },
        "id": "NwYlYf4xKeAk",
        "outputId": "9a4930dd-6e78-4e16-9633-5595c829e605"
      },
      "execution_count": 31,
      "outputs": [
        {
          "output_type": "stream",
          "name": "stdout",
          "text": [
            "No configs found; falling back on auto-configuration\n",
            "No configs specified for inline runner\n",
            "Creating temp directory /tmp/airportsensor.root.20250310.090409.926563\n",
            "Running step 1 of 1...\n",
            "job output is in /tmp/airportsensor.root.20250310.090409.926563/output\n",
            "Streaming final output from /tmp/airportsensor.root.20250310.090409.926563/output...\n",
            "Removing temp directory /tmp/airportsensor.root.20250310.090409.926563...\n"
          ]
        }
      ]
    },
    {
      "cell_type": "code",
      "source": [],
      "metadata": {
        "id": "APJb8JvTRfxH"
      },
      "execution_count": 19,
      "outputs": []
    }
  ]
}