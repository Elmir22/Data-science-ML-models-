{
  "nbformat": 4,
  "nbformat_minor": 0,
  "metadata": {
    "colab": {
      "provenance": [],
      "authorship_tag": "ABX9TyPhTfpLBXpk7fahQXEGsA1j",
      "include_colab_link": true
    },
    "kernelspec": {
      "name": "python3",
      "display_name": "Python 3"
    },
    "language_info": {
      "name": "python"
    }
  },
  "cells": [
    {
      "cell_type": "markdown",
      "metadata": {
        "id": "view-in-github",
        "colab_type": "text"
      },
      "source": [
        "<a href=\"https://colab.research.google.com/github/Elmir22/Data-science-ML-models-/blob/main/Big_Data_3.ipynb\" target=\"_parent\"><img src=\"https://colab.research.google.com/assets/colab-badge.svg\" alt=\"Open In Colab\"/></a>"
      ]
    },
    {
      "cell_type": "code",
      "execution_count": 19,
      "metadata": {
        "id": "Ulds68jQHEl2"
      },
      "outputs": [],
      "source": [
        "%%capture\n",
        "!pip install mrjob"
      ]
    },
    {
      "cell_type": "code",
      "source": [
        "%%file review.py\n",
        "\n",
        "from mrjob.job import MRJob\n",
        "import re\n",
        "\n",
        "class MRJob_3(MRJob):\n",
        "\n",
        "  def mapper(self, _ , line):\n",
        "    words = re.findall(r'[a-z0-9]', line.lower())\n",
        "    for word in words:\n",
        "      yield word, 1\n",
        "\n",
        "\n",
        "\n",
        "  def reducer(self, k , v):\n",
        "    yield k, sum(v)\n",
        "\n",
        "\n",
        "if __name__ == '__main__':\n",
        "  MRJob_3.run()\n"
      ],
      "metadata": {
        "colab": {
          "base_uri": "https://localhost:8080/"
        },
        "id": "Q4rnZxHZHoDQ",
        "outputId": "d864668f-4469-49f5-8d2b-3d5076a4e583"
      },
      "execution_count": 22,
      "outputs": [
        {
          "output_type": "stream",
          "name": "stdout",
          "text": [
            "Overwriting review.py\n"
          ]
        }
      ]
    },
    {
      "cell_type": "code",
      "source": [
        "!python review.py /content/Life_of_PI_good_review.txt > output.txt"
      ],
      "metadata": {
        "colab": {
          "base_uri": "https://localhost:8080/"
        },
        "id": "leHMKEZxIIUv",
        "outputId": "becf1344-96c0-45da-8c73-28377b5c821c"
      },
      "execution_count": 23,
      "outputs": [
        {
          "output_type": "stream",
          "name": "stdout",
          "text": [
            "No configs found; falling back on auto-configuration\n",
            "No configs specified for inline runner\n",
            "Creating temp directory /tmp/review.root.20250310.133100.745674\n",
            "Running step 1 of 1...\n",
            "job output is in /tmp/review.root.20250310.133100.745674/output\n",
            "Streaming final output from /tmp/review.root.20250310.133100.745674/output...\n",
            "Removing temp directory /tmp/review.root.20250310.133100.745674...\n"
          ]
        }
      ]
    },
    {
      "cell_type": "code",
      "source": [],
      "metadata": {
        "id": "fHgmXcSrOzZm"
      },
      "execution_count": 21,
      "outputs": []
    }
  ]
}