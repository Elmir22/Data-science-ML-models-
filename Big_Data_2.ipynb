{
  "nbformat": 4,
  "nbformat_minor": 0,
  "metadata": {
    "colab": {
      "provenance": [],
      "authorship_tag": "ABX9TyO/m6s+WpjoCSjJMVf+0iAE",
      "include_colab_link": true
    },
    "kernelspec": {
      "name": "python3",
      "display_name": "Python 3"
    },
    "language_info": {
      "name": "python"
    }
  },
  "cells": [
    {
      "cell_type": "markdown",
      "metadata": {
        "id": "view-in-github",
        "colab_type": "text"
      },
      "source": [
        "<a href=\"https://colab.research.google.com/github/Elmir22/Data-science-ML-models-/blob/main/Big_Data_2.ipynb\" target=\"_parent\"><img src=\"https://colab.research.google.com/assets/colab-badge.svg\" alt=\"Open In Colab\"/></a>"
      ]
    },
    {
      "cell_type": "code",
      "execution_count": 1,
      "metadata": {
        "id": "WMjjanXQwa-H"
      },
      "outputs": [],
      "source": [
        "%%capture\n",
        "!pip install mrjob"
      ]
    },
    {
      "cell_type": "code",
      "source": [
        "%%file cards.py\n",
        "from mrjob.job import MRJob\n",
        "\n",
        "class MRJob_2(MRJob):\n",
        "  def mapper(self, _ , line):\n",
        "    key = line.split(',')[1]\n",
        "    value = line.split(\",\")[0]\n",
        "\n",
        "    yield key, 1\n",
        "\n",
        "  def reducer(self, key, value):\n",
        "    yield key, sum(value)\n",
        "\n",
        "if __name__ == '__main__':\n",
        "  MRJob_2.run()"
      ],
      "metadata": {
        "colab": {
          "base_uri": "https://localhost:8080/"
        },
        "id": "kAhmWmP8wnTc",
        "outputId": "130834af-2a8a-47a1-daa3-b35ed67f63a1"
      },
      "execution_count": 3,
      "outputs": [
        {
          "output_type": "stream",
          "name": "stdout",
          "text": [
            "Overwriting cards.py\n"
          ]
        }
      ]
    },
    {
      "cell_type": "code",
      "source": [
        "!python cards.py /content/cards.csv > output.txt"
      ],
      "metadata": {
        "colab": {
          "base_uri": "https://localhost:8080/"
        },
        "id": "P9PWq1fpw4gg",
        "outputId": "87ee7fba-45de-463f-e9b8-0a389f08ce4f"
      },
      "execution_count": 4,
      "outputs": [
        {
          "output_type": "stream",
          "name": "stdout",
          "text": [
            "No configs found; falling back on auto-configuration\n",
            "No configs specified for inline runner\n",
            "Creating temp directory /tmp/cards.root.20250310.113629.406262\n",
            "Running step 1 of 1...\n",
            "job output is in /tmp/cards.root.20250310.113629.406262/output\n",
            "Streaming final output from /tmp/cards.root.20250310.113629.406262/output...\n",
            "Removing temp directory /tmp/cards.root.20250310.113629.406262...\n"
          ]
        }
      ]
    },
    {
      "cell_type": "code",
      "source": [],
      "metadata": {
        "id": "0PqCcV2i15FR"
      },
      "execution_count": null,
      "outputs": []
    }
  ]
}